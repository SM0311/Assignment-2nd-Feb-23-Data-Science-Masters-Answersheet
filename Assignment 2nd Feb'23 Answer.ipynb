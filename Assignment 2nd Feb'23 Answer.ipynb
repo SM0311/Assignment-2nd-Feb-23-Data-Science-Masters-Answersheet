{
 "cells": [
  {
   "cell_type": "markdown",
   "id": "4d851970-5ff4-4522-a418-c7bf72bf394d",
   "metadata": {},
   "source": [
    "Q1. What are the characteristics of the tuples? Is tuple immutable?"
   ]
  },
  {
   "cell_type": "markdown",
   "id": "a4afaf38-ed02-45bf-9b4b-b63a84bf3816",
   "metadata": {},
   "source": [
    "Answer1.  Tuples are ordered collections of elements, similar to lists. \n",
    "Yes, Tuples are immutable."
   ]
  },
  {
   "cell_type": "markdown",
   "id": "accea1a0-c480-4d12-af6f-52aa3fd41010",
   "metadata": {},
   "source": [
    "Q2. What are the two tuple methods in python? Give an example of each method. Give a reason why tuples have only two in-built methods as compared to Lists."
   ]
  },
  {
   "cell_type": "markdown",
   "id": "67cb232f-a85e-444d-9bb4-8e674927be39",
   "metadata": {},
   "source": [
    "Answer2. There are two tuple methods count() and index() that a tuple object can call.\n",
    "Example - 1. count()\n",
    "t = (1, 2, 3, 2, 4, 5, 2)\n",
    "print(t.count(2))  # Output: 3\n",
    "\n",
    "Example - 2. index()\n",
    "t = (1, 2, 3, 2, 4, 5, 2)\n",
    "print(t.index(2))  # Output: 1\n",
    "\n",
    "**Tuples have fewer in-built methods than lists because they are designed to be immutable and used for storing fixed sequences of elements"
   ]
  },
  {
   "cell_type": "markdown",
   "id": "590c5ed5-62fa-4090-bb2d-95c5196f4c7e",
   "metadata": {},
   "source": [
    "Q3. Which collection datatypes in python do not allow duplicate items? Write a code using a set to remove\n",
    "duplicates from the given list.\n",
    "\n",
    "List = [1, 1, 1, 2, 1, 3, 1, 4, 2, 1, 2, 2, 2, 3, 2, 4, 3, 1, 3, 2, 3, 3, 3, 4, 4, 1, 4, 2, 4, 3, 4, 4]"
   ]
  },
  {
   "cell_type": "markdown",
   "id": "a61f84f5-1264-4fc1-b9e3-e900e2db3f3c",
   "metadata": {},
   "source": [
    "Answer3. Set is a collection in python doesn't allow the duplicate items.\n",
    "\n",
    "Code - \n",
    "\n",
    "list = [1, 1, 1, 2, 1, 3, 1, 4, 2, 1, 2, 2, 2, 3, 2, 4, 3, 1, 3, 2, 3, 3, 3, 4, 4, 1, 4, 2, 4, 3, 4, 4]\n",
    "       \n",
    "       set(list) #output: [1,2,3,4]"
   ]
  },
  {
   "cell_type": "code",
   "execution_count": 22,
   "id": "c5fdbd28-0433-4960-a0aa-21187a7eeb4c",
   "metadata": {},
   "outputs": [],
   "source": [
    "list = [1, 1, 1, 2, 1, 3, 1, 4, 2, 1, 2, 2, 2, 3, 2, 4, 3, 1, 3, 2, 3, 3, 3, 4, 4, 1, 4, 2, 4, 3, 4, 4]"
   ]
  },
  {
   "cell_type": "code",
   "execution_count": 23,
   "id": "91253b84-e8b2-4150-b0fe-ef28cd3ec138",
   "metadata": {},
   "outputs": [
    {
     "data": {
      "text/plain": [
       "{1, 2, 3, 4}"
      ]
     },
     "execution_count": 23,
     "metadata": {},
     "output_type": "execute_result"
    }
   ],
   "source": [
    "set(list)"
   ]
  },
  {
   "cell_type": "markdown",
   "id": "b318b7bc-1e60-442f-8041-8e7ad777ecd1",
   "metadata": {},
   "source": [
    "Q4. Explain the difference between the union() and update() methods for a set. Give an example of each method."
   ]
  },
  {
   "cell_type": "markdown",
   "id": "fe40eb7b-9d7f-4a0a-a8cf-32883426f906",
   "metadata": {},
   "source": [
    "Answer 4. The union() method returns a new set that contains all the unique elements from both sets without modifying the original sets. It takes one argument, which can be a set, list, tuple or any iterable. If any element is present in both sets, it will only appear once in the output set.\n",
    "Example - \n",
    "set1 = {1, 2, 3}\n",
    "set2 = {3, 4, 5}\n",
    "union_set = set1.union(set2)\n",
    "\n",
    "print(union_set)  # Output: {1, 2, 3, 4, 5}\n",
    "\n",
    "In this example, the union() method is called on set1 with set2 as the argument. The resulting set union_set contains all the unique elements from both sets, which are {1, 2, 3, 4, 5}.\n",
    "\n",
    "On the other hand, the update() method modifies the original set by adding all the elements from another set to it. It also takes one argument, which can be a set, list, tuple, or any iterable. If any element is present in both sets, it will only appear once in the updated set.\n",
    "\n",
    "Example - \n",
    "\n",
    "set1 = {1, 2, 3}\n",
    "set2 = {3, 4, 5}\n",
    "set1.update(set2)\n",
    "\n",
    "print(set1)  # Output: {1, 2, 3, 4, 5}\n",
    "\n",
    "\n",
    "In summary, the main difference between union() and update() methods is that union() returns a new set without modifying the original sets, while update() modifies the original set by adding all the elements from another set to it.\n"
   ]
  },
  {
   "cell_type": "code",
   "execution_count": 24,
   "id": "eb23309b-db75-46de-b5ce-b0846e1cb80e",
   "metadata": {},
   "outputs": [],
   "source": [
    "set1 = {1, 2, 3}\n",
    "set2 = {3, 4, 5}\n"
   ]
  },
  {
   "cell_type": "code",
   "execution_count": 29,
   "id": "5bd55b3e-2eaa-448a-8260-a52f1b9c5553",
   "metadata": {},
   "outputs": [
    {
     "data": {
      "text/plain": [
       "{1, 2, 3, 4, 5}"
      ]
     },
     "execution_count": 29,
     "metadata": {},
     "output_type": "execute_result"
    }
   ],
   "source": [
    "set1.union(set2)"
   ]
  },
  {
   "cell_type": "code",
   "execution_count": 30,
   "id": "a99b82dd-a4c7-4cb4-ae55-90018abe6580",
   "metadata": {},
   "outputs": [],
   "source": [
    "set1 = {1, 2, 3}\n",
    "set2 = {3, 4, 5}"
   ]
  },
  {
   "cell_type": "code",
   "execution_count": 31,
   "id": "d3df7816-8306-4c7d-9d60-a7cc519c3b0c",
   "metadata": {},
   "outputs": [],
   "source": [
    "set1.update(set2)"
   ]
  },
  {
   "cell_type": "code",
   "execution_count": 32,
   "id": "138d01fc-9554-4553-82cf-67cd0a040b9a",
   "metadata": {},
   "outputs": [
    {
     "data": {
      "text/plain": [
       "{1, 2, 3, 4, 5}"
      ]
     },
     "execution_count": 32,
     "metadata": {},
     "output_type": "execute_result"
    }
   ],
   "source": [
    "set1"
   ]
  },
  {
   "cell_type": "markdown",
   "id": "522de327-1231-4f5e-88c6-11c419b616e7",
   "metadata": {},
   "source": [
    "Q5. What is a dictionary? Give an example. Also, state whether a dictionary is ordered or unordered."
   ]
  },
  {
   "cell_type": "markdown",
   "id": "cf2629b4-6495-44c6-bf73-c728c4c44d57",
   "metadata": {},
   "source": [
    "Answer5 . A dictionary is a built-in data type that stores a collection of key-value pairs. Each key in the dictionary maps to a corresponding value, much like a real-world dictionary maps words to their definitions.\n",
    "\n",
    "Example - d1 = {\"name\" : \"Suraj\", \"email_id\" : \"msuraj20@yahoo.com\", \"number\" : 9650194652} \n",
    "\n",
    "Also, dictionaries are unordered collections of key-value pairs. This means that the order in which the keys and values are added to the dictionary is not preserved."
   ]
  },
  {
   "cell_type": "markdown",
   "id": "01681fd9-e885-47ba-8b16-fabc0a00bce6",
   "metadata": {},
   "source": [
    "Q6. Can we create a nested dictionary? If so, please give an example by creating a simple one-level nested dictionary."
   ]
  },
  {
   "cell_type": "markdown",
   "id": "bf8cfa87-88f2-4baa-b09d-82c38e676e67",
   "metadata": {},
   "source": [
    "Answer6. Yes, we can create a nested dictionary.\n",
    "Example - One- Level nested dictionary\n",
    "P = {\"name\": \"Suraj\",\"age\": 29,\"address\": {\"street\": \"8 Main St\",\"city\": \"Noida\",\"state\": \"UP\",\"zip\": \"201301\"}}\n",
    "\n",
    " P[\"address\"][\"city\"] - #Output - 'Noida'\n",
    "\n",
    "\n"
   ]
  },
  {
   "cell_type": "code",
   "execution_count": 33,
   "id": "483fed9f-22d9-4682-b34a-a3520385a72d",
   "metadata": {},
   "outputs": [],
   "source": [
    "P = {\"name\": \"Suraj\",\"age\": 29,\"address\": {\"street\": \"8 Main St\",\"city\": \"Noida\",\"state\": \"UP\",\"zip\": \"201301\"}}"
   ]
  },
  {
   "cell_type": "code",
   "execution_count": 35,
   "id": "30d2401d-4af0-4840-ab34-9919f441b9a0",
   "metadata": {},
   "outputs": [
    {
     "data": {
      "text/plain": [
       "'Noida'"
      ]
     },
     "execution_count": 35,
     "metadata": {},
     "output_type": "execute_result"
    }
   ],
   "source": [
    "P[\"address\"][\"city\"]"
   ]
  },
  {
   "cell_type": "markdown",
   "id": "93ca8949-d769-4341-ac57-0f103355f724",
   "metadata": {},
   "source": [
    "Q7. Using setdefault() method, create key named topics in the given dictionary and also add the value of the key as this list ['Python', 'Machine Learning’, 'Deep Learning']"
   ]
  },
  {
   "cell_type": "markdown",
   "id": "f3229915-911c-4e77-ad16-83b6f1ccd6e1",
   "metadata": {},
   "source": [
    "Answer 7. Below is the asnwer\n",
    "create a dictionary\n",
    "\n",
    "d1 = {'name': 'Alice', 'age': 30}\n",
    "\n",
    "d1.setdefault('language', ['Python', 'Machine Learning', 'Deep Learning'])\n",
    "\n",
    "print(d1)\n",
    "\n"
   ]
  },
  {
   "cell_type": "code",
   "execution_count": 55,
   "id": "71c63fc5-3fff-4ad7-bf9f-9d53a06636ca",
   "metadata": {},
   "outputs": [],
   "source": [
    "d1 = {'name': 'Alice', 'age': 30}"
   ]
  },
  {
   "cell_type": "code",
   "execution_count": 58,
   "id": "5998a189-7409-4a67-9c1a-a11a330a71a7",
   "metadata": {},
   "outputs": [
    {
     "data": {
      "text/plain": [
       "['Python', 'Machine Learning', 'Deep Learning']"
      ]
     },
     "execution_count": 58,
     "metadata": {},
     "output_type": "execute_result"
    }
   ],
   "source": [
    "d1.setdefault('language', ['Python', 'Machine Learning', 'Deep Learning'])"
   ]
  },
  {
   "cell_type": "code",
   "execution_count": 59,
   "id": "77e4a5c4-20f3-4092-8e17-cbee7965d74b",
   "metadata": {},
   "outputs": [
    {
     "data": {
      "text/plain": [
       "{'name': 'Alice',\n",
       " 'age': 30,\n",
       " 'topics': ['Python', 'Machine Learning', 'Deep Learning'],\n",
       " 'language': ['Python', 'Machine Learning', 'Deep Learning']}"
      ]
     },
     "execution_count": 59,
     "metadata": {},
     "output_type": "execute_result"
    }
   ],
   "source": [
    "d1"
   ]
  },
  {
   "cell_type": "markdown",
   "id": "41f88aff-adcb-4d49-aad4-290248968a7f",
   "metadata": {},
   "source": [
    "Q8. What are the three view objects in dictionaries? Use the three in-built methods in python to display\n",
    "these three view objects for the given dictionary.\n",
    "dict1 = {'Sport': 'Cricket' , 'Teams': ['India', 'Australia', 'England', 'South Africa', 'Sri Lanka', 'New Zealand']}"
   ]
  },
  {
   "cell_type": "markdown",
   "id": "3e1fc241-69bf-4c36-aa96-b75cc1b38426",
   "metadata": {},
   "source": [
    "Answer8. Three view objects in dictionaries are as mentioned bwlow.\n",
    "1. d1.keys()\n",
    "2. d1.values()\n",
    "3. d1.items()\n",
    "dict1 = {'Sport': 'Cricket' , 'Teams': ['India', 'Australia', 'England', 'South Africa', 'Sri Lanka', 'New Zealand']}\n"
   ]
  },
  {
   "cell_type": "code",
   "execution_count": 61,
   "id": "def442e1-843b-45aa-be62-b713b77a58fe",
   "metadata": {},
   "outputs": [],
   "source": [
    "dict1 = {'Sport': 'Cricket' , 'Teams': ['India', 'Australia', 'England', 'South Africa', 'Sri Lanka', 'New Zealand']}"
   ]
  },
  {
   "cell_type": "code",
   "execution_count": 62,
   "id": "2263bec9-6701-4e74-a7d7-91de779881e0",
   "metadata": {},
   "outputs": [
    {
     "data": {
      "text/plain": [
       "{'Sport': 'Cricket',\n",
       " 'Teams': ['India',\n",
       "  'Australia',\n",
       "  'England',\n",
       "  'South Africa',\n",
       "  'Sri Lanka',\n",
       "  'New Zealand']}"
      ]
     },
     "execution_count": 62,
     "metadata": {},
     "output_type": "execute_result"
    }
   ],
   "source": [
    "dict1"
   ]
  },
  {
   "cell_type": "code",
   "execution_count": 63,
   "id": "b5a85c4c-3f1a-4efd-87de-c4573684d5f9",
   "metadata": {},
   "outputs": [
    {
     "data": {
      "text/plain": [
       "dict_keys(['Sport', 'Teams'])"
      ]
     },
     "execution_count": 63,
     "metadata": {},
     "output_type": "execute_result"
    }
   ],
   "source": [
    "dict1.keys()"
   ]
  },
  {
   "cell_type": "code",
   "execution_count": 64,
   "id": "c41dca09-6154-4983-9596-8457e61c90b4",
   "metadata": {},
   "outputs": [
    {
     "data": {
      "text/plain": [
       "dict_values(['Cricket', ['India', 'Australia', 'England', 'South Africa', 'Sri Lanka', 'New Zealand']])"
      ]
     },
     "execution_count": 64,
     "metadata": {},
     "output_type": "execute_result"
    }
   ],
   "source": [
    "dict1.values()"
   ]
  },
  {
   "cell_type": "code",
   "execution_count": 65,
   "id": "884fce73-9685-41c4-bc2b-edf54ba46318",
   "metadata": {},
   "outputs": [
    {
     "data": {
      "text/plain": [
       "dict_items([('Sport', 'Cricket'), ('Teams', ['India', 'Australia', 'England', 'South Africa', 'Sri Lanka', 'New Zealand'])])"
      ]
     },
     "execution_count": 65,
     "metadata": {},
     "output_type": "execute_result"
    }
   ],
   "source": [
    "dict1.items()"
   ]
  },
  {
   "cell_type": "code",
   "execution_count": null,
   "id": "b068b909-7c8b-423d-ab87-e57ca9f11458",
   "metadata": {},
   "outputs": [],
   "source": []
  }
 ],
 "metadata": {
  "kernelspec": {
   "display_name": "Python 3 (ipykernel)",
   "language": "python",
   "name": "python3"
  },
  "language_info": {
   "codemirror_mode": {
    "name": "ipython",
    "version": 3
   },
   "file_extension": ".py",
   "mimetype": "text/x-python",
   "name": "python",
   "nbconvert_exporter": "python",
   "pygments_lexer": "ipython3",
   "version": "3.10.8"
  }
 },
 "nbformat": 4,
 "nbformat_minor": 5
}
